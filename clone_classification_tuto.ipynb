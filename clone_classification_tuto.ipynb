{
  "nbformat": 4,
  "nbformat_minor": 0,
  "metadata": {
    "colab": {
      "name": "clone_classification_tuto.ipynb",
      "provenance": [],
      "collapsed_sections": [],
      "authorship_tag": "ABX9TyNB0FnqvLTZI45FbpCmHso5",
      "include_colab_link": true
    },
    "kernelspec": {
      "name": "python3",
      "display_name": "Python 3"
    },
    "language_info": {
      "name": "python"
    }
  },
  "cells": [
    {
      "cell_type": "markdown",
      "metadata": {
        "id": "view-in-github",
        "colab_type": "text"
      },
      "source": [
        "<a href=\"https://colab.research.google.com/github/SanhoLee/colab_studying/blob/main/clone_classification_tuto.ipynb\" target=\"_parent\"><img src=\"https://colab.research.google.com/assets/colab-badge.svg\" alt=\"Open In Colab\"/></a>"
      ]
    },
    {
      "cell_type": "markdown",
      "source": [
        "참고한 웹사이트\n",
        "\n",
        "[튜토리얼 메인페이지](https://www.tensorflow.org/tutorials/keras/classification)\n"
      ],
      "metadata": {
        "id": "CoZNLmajwUmC"
      }
    },
    {
      "cell_type": "markdown",
      "source": [
        "[클론 코랩 파일](https://colab.research.google.com/github/tensorflow/docs-l10n/blob/master/site/ko/tutorials/keras/classification.ipynb#scrollTo=yRJ7JU7JCaXT)"
      ],
      "metadata": {
        "id": "0-9bJi9swmdx"
      }
    },
    {
      "cell_type": "code",
      "execution_count": 37,
      "metadata": {
        "colab": {
          "base_uri": "https://localhost:8080/"
        },
        "id": "4zY9c_iuZ89e",
        "outputId": "ccd613c4-3257-4104-f198-069ff64744ea"
      },
      "outputs": [
        {
          "output_type": "stream",
          "name": "stdout",
          "text": [
            "2.7.0\n"
          ]
        }
      ],
      "source": [
        "# Import TensorFlow\n",
        "import tensorflow as tf\n",
        "\n",
        "# helper libs.\n",
        "import numpy as np\n",
        "import matplotlib.pyplot as plt\n",
        "\n",
        "print(tf.__version__)"
      ]
    },
    {
      "cell_type": "markdown",
      "source": [
        "## MNIST 데이터셋 임포트"
      ],
      "metadata": {
        "id": "KHfsz-dBaz4v"
      }
    },
    {
      "cell_type": "code",
      "source": [
        "fashion_mnist = tf.keras.datasets.fashion_mnist\n",
        "(train_images, train_labels),(test_images, test_labels) = fashion_mnist.load_data()"
      ],
      "metadata": {
        "id": "HIuq3edoadbi"
      },
      "execution_count": 38,
      "outputs": []
    },
    {
      "cell_type": "markdown",
      "source": [
        "## 레이블 숫자에 해당되는 클래스 이름을 변수로 정의한다."
      ],
      "metadata": {
        "id": "daxRA_yxu_8H"
      }
    },
    {
      "cell_type": "code",
      "source": [
        "class_names = ['T-shirt/top', 'Trouser', 'Pullover','Dress','Coat','Sandal','Shirt','Sneaker','Bag','Ankle Boot']"
      ],
      "metadata": {
        "id": "SEqQLHW7bdfK"
      },
      "execution_count": 39,
      "outputs": []
    },
    {
      "cell_type": "markdown",
      "source": [
        "## 데이터 탐색"
      ],
      "metadata": {
        "id": "FS1FhYE9vjvz"
      }
    },
    {
      "cell_type": "markdown",
      "source": [
        "데이터 개요를 살펴본다."
      ],
      "metadata": {
        "id": "rvbYPly2vn-r"
      }
    },
    {
      "cell_type": "code",
      "source": [
        "train_images.shape"
      ],
      "metadata": {
        "colab": {
          "base_uri": "https://localhost:8080/"
        },
        "id": "wIbCA3vzvhcn",
        "outputId": "6bc55736-bc17-4927-d8f8-851285776539"
      },
      "execution_count": 40,
      "outputs": [
        {
          "output_type": "execute_result",
          "data": {
            "text/plain": [
              "(60000, 28, 28)"
            ]
          },
          "metadata": {},
          "execution_count": 40
        }
      ]
    },
    {
      "cell_type": "code",
      "source": [
        "len(train_labels)"
      ],
      "metadata": {
        "colab": {
          "base_uri": "https://localhost:8080/"
        },
        "id": "H6weugCxvs30",
        "outputId": "b0af48f2-65c7-4659-f474-ae76e8c978da"
      },
      "execution_count": 41,
      "outputs": [
        {
          "output_type": "execute_result",
          "data": {
            "text/plain": [
              "60000"
            ]
          },
          "metadata": {},
          "execution_count": 41
        }
      ]
    },
    {
      "cell_type": "code",
      "source": [
        "train_labels"
      ],
      "metadata": {
        "colab": {
          "base_uri": "https://localhost:8080/"
        },
        "id": "02K3xMnXv0Ul",
        "outputId": "d26a52a4-91d4-4c05-fd6d-a5db8f6972d6"
      },
      "execution_count": 42,
      "outputs": [
        {
          "output_type": "execute_result",
          "data": {
            "text/plain": [
              "array([9, 0, 0, ..., 3, 0, 5], dtype=uint8)"
            ]
          },
          "metadata": {},
          "execution_count": 42
        }
      ]
    },
    {
      "cell_type": "markdown",
      "source": [
        "레이블은 0~9 사이의 값을 가지고 있다. 위에서 클래스를 정의했고, 각 인덱스별로 클래스 이름이 매칭된다고 생각하면 된다."
      ],
      "metadata": {
        "id": "7DLkQ27Pv4-H"
      }
    },
    {
      "cell_type": "code",
      "source": [
        "test_images.shape"
      ],
      "metadata": {
        "colab": {
          "base_uri": "https://localhost:8080/"
        },
        "id": "BgTkOMQgv35E",
        "outputId": "267a65e8-3ebe-4d1f-93d9-261fc976371a"
      },
      "execution_count": 43,
      "outputs": [
        {
          "output_type": "execute_result",
          "data": {
            "text/plain": [
              "(10000, 28, 28)"
            ]
          },
          "metadata": {},
          "execution_count": 43
        }
      ]
    },
    {
      "cell_type": "markdown",
      "source": [
        "테스트 데이터는 10000개 확인."
      ],
      "metadata": {
        "id": "yLIEMOkJwFGS"
      }
    },
    {
      "cell_type": "code",
      "source": [
        "len(test_images)"
      ],
      "metadata": {
        "colab": {
          "base_uri": "https://localhost:8080/"
        },
        "id": "r3jadivmwD_y",
        "outputId": "2a3520eb-c572-45fb-93ce-29504505070c"
      },
      "execution_count": 44,
      "outputs": [
        {
          "output_type": "execute_result",
          "data": {
            "text/plain": [
              "10000"
            ]
          },
          "metadata": {},
          "execution_count": 44
        }
      ]
    },
    {
      "cell_type": "markdown",
      "source": [
        "## 데이터 전처리"
      ],
      "metadata": {
        "id": "VF1v06tVwTIy"
      }
    },
    {
      "cell_type": "code",
      "source": [
        "plt.figure()\n",
        "plt.imshow(train_images[0])\n",
        "plt.colorbar()\n",
        "plt.grid(False)\n",
        "plt.show()"
      ],
      "metadata": {
        "colab": {
          "base_uri": "https://localhost:8080/",
          "height": 265
        },
        "id": "sz6Pm61pwPfD",
        "outputId": "5bf25029-959b-4d87-8694-5c18487ec6d3"
      },
      "execution_count": 45,
      "outputs": [
        {
          "output_type": "display_data",
          "data": {
            "image/png": "[encoded data removed]",
            "text/plain": [
              "<Figure size 432x288 with 2 Axes>"
            ]
          },
          "metadata": {
            "needs_background": "light"
          }
        }
      ]
    },
    {
      "cell_type": "markdown",
      "source": [
        "픽셀의 범위는 0~255 범위에서 표현되고 있다. (uint8 인듯)"
      ],
      "metadata": {
        "id": "6r1pP_2NxAH_"
      }
    },
    {
      "cell_type": "markdown",
      "source": [
        "신경망에 주입하기 전에 픽셀 데이터를 0~1사이의 값으로 변환해야 한다. 그래서 train, test 데이터에 대해서 255를 나눠준다."
      ],
      "metadata": {
        "id": "EdOJCIhBxNCL"
      }
    },
    {
      "cell_type": "code",
      "source": [
        "train_images = train_images / 255\n",
        "test_images = test_images / 255"
      ],
      "metadata": {
        "id": "dIg0q_tmwhCK"
      },
      "execution_count": 46,
      "outputs": []
    },
    {
      "cell_type": "code",
      "source": [
        "plt.figure()\n",
        "plt.imshow(train_images[0])\n",
        "plt.colorbar()\n",
        "plt.grid(False)\n",
        "plt.show()\n",
        "# 아래 그림에서 0~1사이로 칼라 범위가 변경된 것을 알 수 있다."
      ],
      "metadata": {
        "colab": {
          "base_uri": "https://localhost:8080/",
          "height": 269
        },
        "id": "GjSWNk3IxigY",
        "outputId": "f796be5b-ae89-4b16-db14-7e5a25dd0422"
      },
      "execution_count": 47,
      "outputs": [
        {
          "output_type": "display_data",
          "data": {
            "image/png": "[encoded data removed]",
            "text/plain": [
              "<Figure size 432x288 with 2 Axes>"
            ]
          },
          "metadata": {
            "needs_background": "light"
          }
        }
      ]
    },
    {
      "cell_type": "markdown",
      "source": [
        "훈련세트의 25개 이미지와 클래스 이름을 출력해본다. 데이터 포맷을 올바른지 확인하고, 네트워크 구성과 훈련할 준비를 한다."
      ],
      "metadata": {
        "id": "yyx800kYzYiG"
      }
    },
    {
      "cell_type": "code",
      "source": [
        "plt.figure(figsize=(10,10))\n",
        "for i in range(25):\n",
        "  plt.subplot(5,5,i+1)\n",
        "  plt.xticks([])\n",
        "  plt.yticks([])\n",
        "  plt.grid(False)\n",
        "  plt.imshow(train_images[i], cmap=plt.cm.binary)\n",
        "  plt.xlabel(class_names[train_labels[i]])\n",
        "plt.show()"
      ],
      "metadata": {
        "colab": {
          "base_uri": "https://localhost:8080/",
          "height": 589
        },
        "id": "MjbnuVbKxkRy",
        "outputId": "0443ac7c-68f9-426e-9784-106dc47d00f1"
      },
      "execution_count": 48,
      "outputs": [
        {
          "output_type": "display_data",
          "data": {
            "image/png": "[encoded data removed]",
            "text/plain": [
              "<Figure size 720x720 with 25 Axes>"
            ]
          },
          "metadata": {}
        }
      ]
    },
    {
      "cell_type": "markdown",
      "source": [
        "## 모델 구성\n",
        "\n",
        "신경망 모델을 구성하기 위한 과정\n",
        "1. 모델의 층을 구성\n",
        "2. 모델을 컴파일"
      ],
      "metadata": {
        "id": "xPKgZtAY1EDN"
      }
    },
    {
      "cell_type": "markdown",
      "source": [
        "---"
      ],
      "metadata": {
        "id": "-xTPtGR51k82"
      }
    },
    {
      "cell_type": "markdown",
      "source": [
        "1. 모델의 층을 구성"
      ],
      "metadata": {
        "id": "Vn7q8icl1ysY"
      }
    },
    {
      "cell_type": "markdown",
      "source": [
        "레이어에 공급된 데이터로부터 표현을 추출한다.\n",
        "대부분 딥러닝은 간단한 층을 연결하여 구성된다.\n",
        "~layers.Dense와 같은 층들의 가중치(parameter)는 훈련하는 동안 학습됩니다."
      ],
      "metadata": {
        "id": "5eQKiPos111r"
      }
    },
    {
      "cell_type": "code",
      "source": [
        "model = tf.keras.Sequential([\n",
        "                             tf.keras.layers.Flatten(input_shape=(28,28)),\n",
        "                             tf.keras.layers.Dense(128, activation='relu'),\n",
        "                             tf.keras.layers.Dense(10)\n",
        "])"
      ],
      "metadata": {
        "id": "StnjGQdJ1mhn"
      },
      "execution_count": 49,
      "outputs": []
    },
    {
      "cell_type": "markdown",
      "source": [
        "이 네트워크의 첫 번째 층인 `tf.keras.layers.Flatten`은 2차원 배열(28 x 28 픽셀)의 이미지 포맷을 28 * 28 = 784 픽셀의 1차원 배열로 변환합니다. 이 층은 이미지에 있는 픽셀의 행을 펼쳐서 일렬로 늘립니다. 이 층에는 학습되는 가중치가 없고 데이터를 변환하기만 합니다.\n",
        "\n",
        "픽셀을 펼친 후에는 두 개의 `tf.keras.layers.Dense` 층이 연속되어 연결됩니다. 이 층을 밀집 연결(densely-connected) 또는 완전 연결(fully-connected) 층이라고 부릅니다. 첫 번째 `Dense` 층은 128개의 노드(또는 뉴런)를 가집니다. 두 번째 (마지막) 층은 10개의 노드의 *소프트맥스*(softmax) 층입니다. 이 층은 10개의 확률을 반환하고 반환된 값의 전체 합은 1입니다. 각 노드는 현재 이미지가 10개 클래스 중 하나에 속할 확률을 출력합니다.\n",
        "\n",
        "### 모델 컴파일\n",
        "\n",
        "모델을 훈련할 준비가 되기 전에 몇 가지 설정이 더 필요합니다. 다음은 모델의 [*컴파일*](https://www.tensorflow.org/api_docs/python/tf/keras/Model#compile) 단계에서 추가됩니다.\n",
        "\n",
        "- [*손실 함수*](https://www.tensorflow.org/api_docs/python/tf/keras/losses) - 훈련 중 모델이 얼마나 정확한지 측정합니다. 모델을 올바른 방향으로 \"조정\"하려면 이 함수를 최소화해야 합니다.\n",
        "- [*옵티마이저*](https://www.tensorflow.org/api_docs/python/tf/keras/optimizers) - 모델이 인식하는 데이터와 해당 손실 함수를 기반으로 모델이 업데이트되는 방식입니다.\n",
        "- [*메트릭*](https://www.tensorflow.org/api_docs/python/tf/keras/metrics) — 훈련 및 테스트 단계를 모니터링하는 데 사용됩니다. 다음 예에서는 올바르게 분류된 이미지의 비율인 *정확도*를 사용합니다."
      ],
      "metadata": {
        "id": "FDmfetgU5u4Y"
      }
    },
    {
      "cell_type": "code",
      "source": [
        "model.compile(optimizer='adam',\n",
        "              loss=tf.keras.losses.SparseCategoricalCrossentropy(from_logits=True),\n",
        "              metrics=['accuracy']\n",
        "              )"
      ],
      "metadata": {
        "id": "KHcsRtTM4Vay"
      },
      "execution_count": 50,
      "outputs": []
    },
    {
      "cell_type": "markdown",
      "source": [
        "모델 층을 생성하고, 모델의 훈련 프로세스 특징들을 대입해서 컴파일까지 해주었다. 그럼 컴파일된 모델을 사용해서, 모델을 훈련시킬 수 있게 된다.(?)"
      ],
      "metadata": {
        "id": "HW6s1qlVh50A"
      }
    },
    {
      "cell_type": "markdown",
      "source": [
        "## 모델 훈련"
      ],
      "metadata": {
        "id": "7raVxp5QiJsY"
      }
    },
    {
      "cell_type": "markdown",
      "source": [
        "신경망 모델을 훈련하려면 다음 단계가 필요합니다.\n",
        "\n",
        "1. 훈련 데이터를 모델에 주입합니다-이 예에서는 `train_images`와 `train_labels` 배열입니다.\n",
        "2. 모델이 이미지와 레이블을 매핑하는 방법을 배웁니다.\n",
        "3. 테스트 세트에 대한 모델의 예측을 만듭니다-이 예에서는 `test_images` 배열입니다. 이 예측이 `test_labels` 배열의 레이블과 맞는지 확인합니다.\n",
        "4. 예측이 `test_labels` 배열의 레이블과 일치하는지 확인합니다."
      ],
      "metadata": {
        "id": "th0Zt9a1iQZy"
      }
    },
    {
      "cell_type": "markdown",
      "source": [
        "### 모델 피드"
      ],
      "metadata": {
        "id": "i2Jqm1P4idqu"
      }
    },
    {
      "cell_type": "markdown",
      "source": [
        "훈련을 시작하려면, model.fit 메서드를 호출합니다. 모델을 훈련 데이터에 맞추기('FIT') 때문에 이렇게 불립니다."
      ],
      "metadata": {
        "id": "LkihLs9kigLl"
      }
    },
    {
      "cell_type": "code",
      "source": [
        "model.fit(train_images, train_labels, epochs=10)"
      ],
      "metadata": {
        "colab": {
          "base_uri": "https://localhost:8080/"
        },
        "id": "AaGMO3Hzh3kD",
        "outputId": "d67599b2-f059-4baa-d99e-38f8c65bbbf2"
      },
      "execution_count": 51,
      "outputs": [
        {
          "output_type": "stream",
          "name": "stdout",
          "text": [
            "Epoch 1/10\n",
            "1875/1875 [==============================] - 4s 2ms/step - loss: 0.4956 - accuracy: 0.8258\n",
            "Epoch 2/10\n",
            "1875/1875 [==============================] - 4s 2ms/step - loss: 0.3743 - accuracy: 0.8648\n",
            "Epoch 3/10\n",
            "1875/1875 [==============================] - 4s 2ms/step - loss: 0.3365 - accuracy: 0.8774\n",
            "Epoch 4/10\n",
            "1875/1875 [==============================] - 4s 2ms/step - loss: 0.3124 - accuracy: 0.8845\n",
            "Epoch 5/10\n",
            "1875/1875 [==============================] - 4s 2ms/step - loss: 0.2946 - accuracy: 0.8929\n",
            "Epoch 6/10\n",
            "1875/1875 [==============================] - 4s 2ms/step - loss: 0.2814 - accuracy: 0.8957\n",
            "Epoch 7/10\n",
            "1875/1875 [==============================] - 4s 2ms/step - loss: 0.2665 - accuracy: 0.9014\n",
            "Epoch 8/10\n",
            "1875/1875 [==============================] - 4s 2ms/step - loss: 0.2568 - accuracy: 0.9040\n",
            "Epoch 9/10\n",
            "1875/1875 [==============================] - 4s 2ms/step - loss: 0.2458 - accuracy: 0.9082\n",
            "Epoch 10/10\n",
            "1875/1875 [==============================] - 4s 2ms/step - loss: 0.2389 - accuracy: 0.9104\n"
          ]
        },
        {
          "output_type": "execute_result",
          "data": {
            "text/plain": [
              "<keras.callbacks.History at 0x7f9a3489fc10>"
            ]
          },
          "metadata": {},
          "execution_count": 51
        }
      ]
    },
    {
      "cell_type": "markdown",
      "source": [
        "모델이 훈련되면서 손실과 정확도 지표가 출력됩니다. 이 모델은 훈련세트에서 약 0.91(91%) 정도의 정확도를 달성했다."
      ],
      "metadata": {
        "id": "ujpg94GvjF_Q"
      }
    },
    {
      "cell_type": "markdown",
      "source": [
        "### 정확도 평가"
      ],
      "metadata": {
        "id": "TzWfQMgZjWO-"
      }
    },
    {
      "cell_type": "markdown",
      "source": [
        "다음으로, 모델이 테스트 데이터 셋에서 작동하는 방식을 비교한다.\n",
        "(훈련된 모델을 가지고 평가를 하게 되는 건가? 라는 생각이 든다.)"
      ],
      "metadata": {
        "id": "3SGSuGgrjZjD"
      }
    },
    {
      "cell_type": "code",
      "source": [
        "# 새로운 변수\n",
        "# 테스트 데이터 셋의 로스와 정확도.\n",
        "test_loss, test_acc = model.evaluate(test_images, test_labels, verbose=2)\n",
        "\n",
        "print(\"\\nTest Accuracy : \", test_acc)"
      ],
      "metadata": {
        "colab": {
          "base_uri": "https://localhost:8080/"
        },
        "id": "-01fE1Wvi38d",
        "outputId": "68ce6d4e-caa2-412a-e211-a420a2b8c7e9"
      },
      "execution_count": 52,
      "outputs": [
        {
          "output_type": "stream",
          "name": "stdout",
          "text": [
            "313/313 - 0s - loss: 0.3867 - accuracy: 0.8644 - 457ms/epoch - 1ms/step\n",
            "\n",
            "Test Accuracy :  0.8644000291824341\n"
          ]
        }
      ]
    },
    {
      "cell_type": "markdown",
      "source": [
        "테스트 세트의 정확도가 훈련 세트의 정확도보다 조금 낮습니다. 훈련 세트의 정확도와 테스트 세트의 정확도 사이의 차이는 *과대적합*(overfitting) 때문입니다. 과대적합은 머신러닝 모델이 훈련 데이터보다 새로운 데이터에서 성능이 낮아지는 현상을 말합니다.\n",
        "\n",
        "- [과대적합 시연](https://www.tensorflow.org/tutorials/keras/overfit_and_underfit#demonstrate_overfitting)\n",
        "- [과대적합을 방지하기 위한 전략](https://www.tensorflow.org/tutorials/keras/overfit_and_underfit#strategies_to_prevent_overfitting)"
      ],
      "metadata": {
        "id": "ZiiB6FxtkPXA"
      }
    },
    {
      "cell_type": "markdown",
      "source": [
        "### 예측하기"
      ],
      "metadata": {
        "id": "IE8WOrUoklAP"
      }
    },
    {
      "cell_type": "markdown",
      "source": [
        ":훈련된 모델을 사용하여 일부 이미지에 대한 예측을 수행할 수 있습니다. 모델의 선형 출력, [로짓](https://developers.google.com/machine-learning/glossary#logits). 소프트맥스 레이어를 연결하여 로짓을 해석하기 쉬운 확률로 변환합니다. "
      ],
      "metadata": {
        "id": "Xor8LHsckr6T"
      }
    },
    {
      "cell_type": "code",
      "source": [
        "probability_model = tf.keras.Sequential([\n",
        "                                         model,\n",
        "                                         tf.keras.layers.Softmax()\n",
        "])\n",
        "# 위에서 model을 생성할때는 레이어를 평탄화, Dense작업등을 해줬는데, 여기서는 훈련된 model을 인수로 가져와서 대입했다.\n",
        "# 그리고, Softmax() 레이어를 연결해서, 로짓? 을 해석한다."
      ],
      "metadata": {
        "id": "RjnUMOQVkDPP"
      },
      "execution_count": 53,
      "outputs": []
    },
    {
      "cell_type": "markdown",
      "source": [
        "위에서 만들 확률 모델? 을 이용해서 예측 결과를 확률적으로 찾아낸다."
      ],
      "metadata": {
        "id": "EtZkhzdmlmaq"
      }
    },
    {
      "cell_type": "code",
      "source": [
        "# 인풋 : 테스트 이미지 세트\n",
        "# predict 메서드를 이용해서 예측을 실행\n",
        "predictions = probability_model.predict(test_images)"
      ],
      "metadata": {
        "id": "nsfZnI7rlipm"
      },
      "execution_count": 54,
      "outputs": []
    },
    {
      "cell_type": "code",
      "source": [
        "predictions[0]"
      ],
      "metadata": {
        "colab": {
          "base_uri": "https://localhost:8080/"
        },
        "id": "PFcE_RSgmIBZ",
        "outputId": "b0a67fe2-46f8-45c6-8199-754c05d8335e"
      },
      "execution_count": 55,
      "outputs": [
        {
          "output_type": "execute_result",
          "data": {
            "text/plain": [
              "array([7.1735235e-07, 2.6170115e-11, 1.0248322e-08, 3.7022058e-10,\n",
              "       1.4427882e-08, 5.0726859e-04, 1.7903817e-07, 3.6392459e-01,\n",
              "       2.1134647e-06, 6.3556510e-01], dtype=float32)"
            ]
          },
          "metadata": {},
          "execution_count": 55
        }
      ]
    },
    {
      "cell_type": "markdown",
      "source": [
        "아, 이 10 개의 숫자들은 10개의 옷 품목에 상응하는 모델의 신뢰도(confidence)를 나타낸다. 가장높은 신뢰도를 출력해보자."
      ],
      "metadata": {
        "id": "kxp27gApmUnE"
      }
    },
    {
      "cell_type": "code",
      "source": [
        "np.argmax(predictions[0])"
      ],
      "metadata": {
        "colab": {
          "base_uri": "https://localhost:8080/"
        },
        "id": "PcsrfzKumK8f",
        "outputId": "2d0c5b24-5b7b-4a23-df9a-cc394b63118d"
      },
      "execution_count": 56,
      "outputs": [
        {
          "output_type": "execute_result",
          "data": {
            "text/plain": [
              "9"
            ]
          },
          "metadata": {},
          "execution_count": 56
        }
      ]
    },
    {
      "cell_type": "markdown",
      "source": [
        "모델은 이 이미지가 앵클부츠(class_name[9])라고 가장 확신하고 있다. 레이블 값을 출력해서 확인해본다."
      ],
      "metadata": {
        "id": "PPv50UWfm0C_"
      }
    },
    {
      "cell_type": "code",
      "source": [
        "test_labels[0]"
      ],
      "metadata": {
        "colab": {
          "base_uri": "https://localhost:8080/"
        },
        "id": "9Sz9HXUlmr1q",
        "outputId": "3352659a-2fa3-41aa-9adf-f39d5e43c99a"
      },
      "execution_count": 57,
      "outputs": [
        {
          "output_type": "execute_result",
          "data": {
            "text/plain": [
              "9"
            ]
          },
          "metadata": {},
          "execution_count": 57
        }
      ]
    },
    {
      "cell_type": "markdown",
      "source": [
        "9번째 인덱스를 잘 가리키고 있다."
      ],
      "metadata": {
        "id": "N5JjbB4FnSAJ"
      }
    },
    {
      "cell_type": "markdown",
      "source": [
        "10개 클래스에 대한 예측을 모두 그래프로 표현해 보겠습니다."
      ],
      "metadata": {
        "id": "Ucw2mu1onbFx"
      }
    },
    {
      "cell_type": "code",
      "source": [
        "# 함수 작성1 : 이미지 작성\n",
        "def plot_image(i, predictions_array, true_label, img):\n",
        "  true_label, img = true_label[i], img[i]\n",
        "  plt.grid(False)\n",
        "  plt.xticks([])\n",
        "  plt.yticks([])\n",
        "\n",
        "  plt.imshow(img, cmap=plt.cm.binary)\n",
        "\n",
        "  predicted_label = np.argmax(predictions_array)\n",
        "  if predicted_label == true_label:\n",
        "    color = 'blue'\n",
        "  else:\n",
        "    color = 'red'\n",
        "\n",
        "  plt.xlabel(\"{} {:2.0f}% ({})\".format(class_names[predicted_label],\n",
        "                                       100*np.max(predictions_array),\n",
        "                                       class_names[true_label]),\n",
        "             color=color)"
      ],
      "metadata": {
        "id": "2czCIvypnMcG"
      },
      "execution_count": 58,
      "outputs": []
    },
    {
      "cell_type": "code",
      "source": [
        "# 함수 작성2 : 한 이미지에서 예측한 클래스별 신뢰도를 그래프로 표현\n",
        "def plot_value_array(i, predictions_array, true_label):\n",
        "  true_label = true_label[i]\n",
        "  plt.grid(False)\n",
        "  plt.xticks(range(10))\n",
        "  plt.yticks([])\n",
        "  thisplot = plt.bar(range(10), predictions_array, color=\"#777777\")\n",
        "  plt.ylim([0,1])\n",
        "  predicted_label = np.argmax(predictions_array)\n",
        "\n",
        "  thisplot[predicted_label].set_color('red')\n",
        "  thisplot[true_label].set_color('blue')"
      ],
      "metadata": {
        "id": "qlSCQFKzn0Rd"
      },
      "execution_count": 59,
      "outputs": []
    },
    {
      "cell_type": "markdown",
      "source": [
        "### 예측 확인\n",
        "\n",
        "훈련된 모델을 사용하여 일부 이미지에 대한 예측을 수행할 수 있습니다.\n",
        "\n",
        "0 번째 원소의 이미지, 예측, 신뢰도 점수 배열을 확인해 보겠습니다."
      ],
      "metadata": {
        "id": "4EsKsyD7qtI_"
      }
    },
    {
      "cell_type": "code",
      "source": [
        "i=0\n",
        "plt.figure(figsize=(6,3))\n",
        "plt.subplot(1,2,1)\n",
        "plot_image(i,predictions[i],test_labels, test_images)\n",
        "plt.subplot(1,2,2)\n",
        "plot_value_array(i,predictions[i],test_labels)\n",
        "plt.show()"
      ],
      "metadata": {
        "colab": {
          "base_uri": "https://localhost:8080/",
          "height": 211
        },
        "id": "QK_Z7Uc0qZf8",
        "outputId": "3557125d-4baa-455d-8737-ba5b3a0003e7"
      },
      "execution_count": 60,
      "outputs": [
        {
          "output_type": "display_data",
          "data": {
            "image/png": "[encoded data removed]",
            "text/plain": [
              "<Figure size 432x216 with 2 Axes>"
            ]
          },
          "metadata": {
            "needs_background": "light"
          }
        }
      ]
    },
    {
      "cell_type": "code",
      "source": [
        "i=12\n",
        "plt.figure(figsize=(6,3))\n",
        "plt.subplot(1,2,1)\n",
        "plot_image(i,predictions[i],test_labels, test_images)\n",
        "plt.subplot(1,2,2)\n",
        "plot_value_array(i,predictions[i],test_labels)\n",
        "plt.show()"
      ],
      "metadata": {
        "colab": {
          "base_uri": "https://localhost:8080/",
          "height": 211
        },
        "id": "7lmDpFWVq8D_",
        "outputId": "d696fa2b-58a8-43f6-b91c-ddedea1c6ed9"
      },
      "execution_count": 61,
      "outputs": [
        {
          "output_type": "display_data",
          "data": {
            "image/png": "[encoded data removed]",
            "text/plain": [
              "<Figure size 432x216 with 2 Axes>"
            ]
          },
          "metadata": {
            "needs_background": "light"
          }
        }
      ]
    },
    {
      "cell_type": "code",
      "source": [
        "i=100\n",
        "plt.figure(figsize=(6,3))\n",
        "plt.subplot(1,2,1)\n",
        "plot_image(i,predictions[i],test_labels, test_images)\n",
        "plt.subplot(1,2,2)\n",
        "plot_value_array(i,predictions[i],test_labels)\n",
        "plt.show()"
      ],
      "metadata": {
        "colab": {
          "base_uri": "https://localhost:8080/",
          "height": 211
        },
        "id": "37L8_F89sPoy",
        "outputId": "ae114ff1-1487-4322-8f29-8a5dd13cc4ac"
      },
      "execution_count": 62,
      "outputs": [
        {
          "output_type": "display_data",
          "data": {
            "image/png": "[encoded data removed]",
            "text/plain": [
              "<Figure size 432x216 with 2 Axes>"
            ]
          },
          "metadata": {
            "needs_background": "light"
          }
        }
      ]
    },
    {
      "cell_type": "code",
      "source": [
        "i=56\n",
        "plt.figure(figsize=(6,3))\n",
        "plt.subplot(1,2,1)\n",
        "plot_image(i,predictions[i],test_labels, test_images)\n",
        "plt.subplot(1,2,2)\n",
        "plot_value_array(i,predictions[i],test_labels)\n",
        "plt.show()"
      ],
      "metadata": {
        "colab": {
          "base_uri": "https://localhost:8080/",
          "height": 211
        },
        "id": "6B3ej1qFsmYk",
        "outputId": "6c02761f-26ea-427d-a827-50b6561c940b"
      },
      "execution_count": 63,
      "outputs": [
        {
          "output_type": "display_data",
          "data": {
            "image/png": "[encoded data removed]",
            "text/plain": [
              "<Figure size 432x216 with 2 Axes>"
            ]
          },
          "metadata": {
            "needs_background": "light"
          }
        }
      ]
    },
    {
      "cell_type": "markdown",
      "source": [
        "매우 흥미롭다. sandal, sneakers 는 나도 구별하기 힘들거 같다."
      ],
      "metadata": {
        "id": "AhsglUrusrf8"
      }
    },
    {
      "cell_type": "markdown",
      "source": [
        "올바르게 예측된 레이블을 파란색이고, 잘못 예측된 레이블은 빨강색입니다. 숫자는 예측 레이블의 신뢰도 퍼센트입니다. 신뢰도 점수가 높을 때도 잘못 예측할 수 있습니다.\n",
        "\n",
        "추가로 몇개의 이미지에 대해서 예측을 출력해보자."
      ],
      "metadata": {
        "id": "LWMnM2GMs2AR"
      }
    },
    {
      "cell_type": "code",
      "source": [
        "# 테스트 데이터 셋을 이용한다.\n",
        "\n",
        "num_rows = 5\n",
        "num_cols = 3\n",
        "num_images = num_rows * num_cols\n",
        "plt.figure(figsize=(2*2*num_cols, 2*num_rows))\n",
        "for i in range(num_images):\n",
        "  plt.subplot(num_rows, 2*num_cols, 2*i+1)\n",
        "  plot_image(i, predictions[i], test_labels, test_images)\n",
        "  plt.subplot(num_rows, 2*num_cols, 2*i+2)\n",
        "  plot_value_array(i,predictions[i],test_labels)\n",
        "plt.tight_layout()\n",
        "plt.show()"
      ],
      "metadata": {
        "colab": {
          "base_uri": "https://localhost:8080/",
          "height": 729
        },
        "id": "FU8wh3bospNm",
        "outputId": "2474d6a0-eff2-4c18-c89d-bc39a1015517"
      },
      "execution_count": 64,
      "outputs": [
        {
          "output_type": "display_data",
          "data": {
            "image/png": "[encoded data removed]",
            "text/plain": [
              "<Figure size 864x720 with 30 Axes>"
            ]
          },
          "metadata": {
            "needs_background": "light"
          }
        }
      ]
    },
    {
      "cell_type": "markdown",
      "source": [
        "## 훈련된 모델 사용하기"
      ],
      "metadata": {
        "id": "l-1y_YRvv8nZ"
      }
    },
    {
      "cell_type": "markdown",
      "source": [
        "마지막으로 훈련된 모델을 사용하여 한 이미지에 대한 예측을 만듭니다."
      ],
      "metadata": {
        "id": "sIP97Ql8__8M"
      }
    },
    {
      "cell_type": "code",
      "source": [
        "img = test_images[1]\n",
        "print(img.shape)"
      ],
      "metadata": {
        "id": "RqkFgBtFtQn5",
        "colab": {
          "base_uri": "https://localhost:8080/"
        },
        "outputId": "56640c3b-994f-449e-e2ea-a871204cc445"
      },
      "execution_count": 65,
      "outputs": [
        {
          "output_type": "stream",
          "name": "stdout",
          "text": [
            "(28, 28)\n"
          ]
        }
      ]
    },
    {
      "cell_type": "markdown",
      "source": [
        "tf.keras 모델은 한 번에 샘플의 묶음 또는 배치(batch)로 예측을 만드는데 최적화되어 있습니다. 하나의 이미지를 사용할 때에도 2차원 배열로 만들어야 합니다."
      ],
      "metadata": {
        "id": "-9LBQPRNAQby"
      }
    },
    {
      "cell_type": "code",
      "source": [
        "img = (np.expand_dims(img, axis=0))\n",
        "print(img.shape)"
      ],
      "metadata": {
        "colab": {
          "base_uri": "https://localhost:8080/"
        },
        "id": "VNRz1iwPAKd9",
        "outputId": "f2dcf1dd-1efc-42af-cacc-3915a3513033"
      },
      "execution_count": 66,
      "outputs": [
        {
          "output_type": "stream",
          "name": "stdout",
          "text": [
            "(1, 28, 28)\n"
          ]
        }
      ]
    },
    {
      "cell_type": "markdown",
      "source": [
        "3차원 배열이 된것이 아닌가?"
      ],
      "metadata": {
        "id": "0VSRE44qBBED"
      }
    },
    {
      "cell_type": "markdown",
      "source": [
        "어쨋든, 이 이미지의 예측을 만듭니다."
      ],
      "metadata": {
        "id": "xwZBprkwBLyX"
      }
    },
    {
      "cell_type": "code",
      "source": [
        "predictions_single = probability_model.predict(img)\n",
        "print(predictions_single)"
      ],
      "metadata": {
        "colab": {
          "base_uri": "https://localhost:8080/"
        },
        "id": "bnmAnWj2An6h",
        "outputId": "78e5e9fa-3821-4e7d-d684-f8b2ff51939f"
      },
      "execution_count": 67,
      "outputs": [
        {
          "output_type": "stream",
          "name": "stdout",
          "text": [
            "[[3.1604528e-04 2.9344110e-12 9.9947518e-01 2.8940808e-11 1.5942697e-04\n",
            "  3.5858819e-10 4.9385584e-05 1.3937064e-10 5.2392243e-11 3.9766315e-12]]\n"
          ]
        }
      ]
    },
    {
      "cell_type": "code",
      "source": [
        "plot_value_array(1, predictions_single[0],test_labels)\n",
        "_ = plt.xticks(range(10), class_names, rotation=45)\n",
        "plt.show()"
      ],
      "metadata": {
        "colab": {
          "base_uri": "https://localhost:8080/",
          "height": 301
        },
        "id": "cER6xcxMBjrK",
        "outputId": "b76a2c8e-8a03-4007-83cb-45e0c284a55d"
      },
      "execution_count": 68,
      "outputs": [
        {
          "output_type": "display_data",
          "data": {
            "image/png": "[encoded data removed]",
            "text/plain": [
              "<Figure size 432x288 with 1 Axes>"
            ]
          },
          "metadata": {
            "needs_background": "light"
          }
        }
      ]
    },
    {
      "cell_type": "markdown",
      "source": [
        "`tf.keras.Model.predict`는 데이터 배치의 각 이미지에 대해 하나의 목록씩 목록의 목록을 반환합니다. 배치에서 (유일한) 이미지에 대한 예측을 가져옵니다."
      ],
      "metadata": {
        "id": "tg3pK4j2CPUR"
      }
    },
    {
      "cell_type": "code",
      "source": [
        "np.argmax(predictions_single[0])"
      ],
      "metadata": {
        "colab": {
          "base_uri": "https://localhost:8080/"
        },
        "id": "SfdbX71IB7TE",
        "outputId": "9160e039-8417-4709-b647-1a565d78e576"
      },
      "execution_count": 69,
      "outputs": [
        {
          "output_type": "execute_result",
          "data": {
            "text/plain": [
              "2"
            ]
          },
          "metadata": {},
          "execution_count": 69
        }
      ]
    },
    {
      "cell_type": "code",
      "source": [
        ""
      ],
      "metadata": {
        "id": "onk2phd7Cc09"
      },
      "execution_count": 69,
      "outputs": []
    }
  ]
}